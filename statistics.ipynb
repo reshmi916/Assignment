{
  "nbformat": 4,
  "nbformat_minor": 0,
  "metadata": {
    "colab": {
      "provenance": [],
      "authorship_tag": "ABX9TyMdLBWIqy/VBUBuQRnfhIJP",
      "include_colab_link": true
    },
    "kernelspec": {
      "name": "python3",
      "display_name": "Python 3"
    },
    "language_info": {
      "name": "python"
    }
  },
  "cells": [
    {
      "cell_type": "markdown",
      "metadata": {
        "id": "view-in-github",
        "colab_type": "text"
      },
      "source": [
        "<a href=\"https://colab.research.google.com/github/reshmi916/Assignment/blob/main/statistics.ipynb\" target=\"_parent\"><img src=\"https://colab.research.google.com/assets/colab-badge.svg\" alt=\"Open In Colab\"/></a>"
      ]
    },
    {
      "cell_type": "markdown",
      "source": [
        "##Question 3"
      ],
      "metadata": {
        "id": "DQ30MB2ZwnEp"
      }
    },
    {
      "cell_type": "code",
      "execution_count": null,
      "metadata": {
        "id": "lKdEV3HHwXF_"
      },
      "outputs": [],
      "source": [
        "x=int(input('Enter a number='))\n",
        "y=int(input('Enter a number='))\n",
        "print(max(x,y))"
      ]
    },
    {
      "cell_type": "markdown",
      "source": [
        "##Question 5"
      ],
      "metadata": {
        "id": "I_TfHgXjw70B"
      }
    },
    {
      "cell_type": "code",
      "source": [
        "message=str(input('enter a word='))\n",
        "n=len(message)\n",
        "i=1\n",
        "while i<n+1:\n",
        "  print(message[n-i])\n",
        "  i=i+1"
      ],
      "metadata": {
        "id": "toWqG_qsxCQS"
      },
      "execution_count": null,
      "outputs": []
    },
    {
      "cell_type": "markdown",
      "source": [
        "##Question 6"
      ],
      "metadata": {
        "id": "0IurWOftxInp"
      }
    },
    {
      "cell_type": "code",
      "source": [
        "message=str(input('enter a word='))\n",
        "y=message\n",
        "z=message[::-1]\n",
        "if y==z:\n",
        "    print(message,\"is palindrome\")\n",
        "else:\n",
        "    print(message,'not palindrome')"
      ],
      "metadata": {
        "id": "UfWkZHcWxRnq"
      },
      "execution_count": null,
      "outputs": []
    },
    {
      "cell_type": "markdown",
      "source": [
        "## Question 8"
      ],
      "metadata": {
        "id": "-_VZ16MNxUHx"
      }
    },
    {
      "cell_type": "code",
      "source": [
        "L=[]\n",
        "N=int(input('enter the length of a list='))\n",
        "for i in range(1,N+1):\n",
        " i=int(input('enter a number='))\n",
        " L.append(i)\n",
        "print(L)\n",
        "z=sum(L)\n",
        "print(\"sum=\",z)\n"
      ],
      "metadata": {
        "id": "e7LM69qmxc25"
      },
      "execution_count": null,
      "outputs": []
    },
    {
      "cell_type": "markdown",
      "source": [
        "##Question 9"
      ],
      "metadata": {
        "id": "zw-FxwOLxlPz"
      }
    },
    {
      "cell_type": "code",
      "source": [
        "L=[]\n",
        "N=int(input('enter the length of a list='))\n",
        "for i in range(1,N+1):\n",
        " i=int(input('enter a number='))\n",
        " L.append(i)\n",
        "print(L)\n",
        "print('smallest number=',min(L))"
      ],
      "metadata": {
        "id": "nw4o3yjwxrch"
      },
      "execution_count": null,
      "outputs": []
    },
    {
      "cell_type": "markdown",
      "source": [
        "## Question 12"
      ],
      "metadata": {
        "id": "WrhNHZF9xtFp"
      }
    },
    {
      "cell_type": "code",
      "source": [
        "x=str(input('enter word='))\n",
        "n=len(x)\n",
        "print('Length=',n)"
      ],
      "metadata": {
        "id": "41dZQ-LQx2RR"
      },
      "execution_count": null,
      "outputs": []
    },
    {
      "cell_type": "markdown",
      "source": [
        "## Question 13"
      ],
      "metadata": {
        "id": "zr3nuOWqx3kh"
      }
    },
    {
      "cell_type": "code",
      "source": [
        "x=input('Enter a sentence=')\n",
        "word=[]\n",
        "words=x.split(\" \")\n",
        "print(len(words))"
      ],
      "metadata": {
        "id": "ZbQBpc0vx-MJ"
      },
      "execution_count": null,
      "outputs": []
    },
    {
      "cell_type": "markdown",
      "source": [
        "## Question 15"
      ],
      "metadata": {
        "id": "EuRfXon8yC75"
      }
    },
    {
      "cell_type": "code",
      "source": [
        "message=str(input('enter a word='))\n",
        "y=message\n",
        "z=message[::-1]\n",
        "if y==z:\n",
        "    print(message,\"is palindrome\")\n",
        "else:\n",
        "    print(message,'not palindrome')"
      ],
      "metadata": {
        "id": "0DQk3VPlyKpJ"
      },
      "execution_count": null,
      "outputs": []
    },
    {
      "cell_type": "markdown",
      "source": [
        "##Question 16"
      ],
      "metadata": {
        "id": "1VrfUDy5yMva"
      }
    },
    {
      "cell_type": "code",
      "source": [
        "L=[]\n",
        "N=int(input('enter the length of a list='))\n",
        "for i in range(1,N+1):\n",
        " i=int(input('enter a number='))\n",
        " L.append(i)\n",
        "print(L)\n",
        "for j in range(N):\n",
        "  if L[j]%2==0:\n",
        "    print(L[j])"
      ],
      "metadata": {
        "id": "TE0aMdroySs5"
      },
      "execution_count": null,
      "outputs": []
    },
    {
      "cell_type": "markdown",
      "source": [
        "##Question 18"
      ],
      "metadata": {
        "id": "lXn1-6iMyUnZ"
      }
    },
    {
      "cell_type": "code",
      "source": [
        "L=[]\n",
        "N=int(input('enter the length of a list='))\n",
        "for i in range(1,N+1):\n",
        " i=int(input('enter a number='))\n",
        " L.append(i)\n",
        "print(L)\n",
        "x=sum(L)\n",
        "print(\"Average=\",(x/N))"
      ],
      "metadata": {
        "id": "u2VRUzyQyc0J"
      },
      "execution_count": null,
      "outputs": []
    },
    {
      "cell_type": "markdown",
      "source": [
        "##Question 27"
      ],
      "metadata": {
        "id": "cTGveZjRye_p"
      }
    },
    {
      "cell_type": "code",
      "source": [
        "L=[]\n",
        "n=len(L)\n",
        "for i in range(2,20):\n",
        "  if i%2==0:\n",
        "    x=(i**2)\n",
        "    L.append(x)\n",
        "print(L)"
      ],
      "metadata": {
        "id": "LD1W_d2nyoj5"
      },
      "execution_count": null,
      "outputs": []
    },
    {
      "cell_type": "markdown",
      "source": [
        "##Question 28"
      ],
      "metadata": {
        "id": "d5nmGxg0yp9y"
      }
    },
    {
      "cell_type": "code",
      "source": [
        "vector=[]\n",
        "n=3\n",
        "for i in range(n):\n",
        "  i=int(input('enter a number='))\n",
        "  vector.append(i)\n",
        "  i=i+1\n",
        "print(vector)\n",
        "print('L1=',sum(vector))\n",
        "new=[]\n",
        "for j in range(n):\n",
        "  y=(vector[j]**2)\n",
        "  new.append(y)\n",
        "  j=j+1\n",
        "print('L2=',sum(new))"
      ],
      "metadata": {
        "id": "ibq34uNlyvFC"
      },
      "execution_count": null,
      "outputs": []
    }
  ]
}