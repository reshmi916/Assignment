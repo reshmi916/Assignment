{
  "nbformat": 4,
  "nbformat_minor": 0,
  "metadata": {
    "colab": {
      "provenance": [],
      "authorship_tag": "ABX9TyNnjuQ3X1mr+WZOnQPYGUgX",
      "include_colab_link": true
    },
    "kernelspec": {
      "name": "python3",
      "display_name": "Python 3"
    },
    "language_info": {
      "name": "python"
    }
  },
  "cells": [
    {
      "cell_type": "markdown",
      "metadata": {
        "id": "view-in-github",
        "colab_type": "text"
      },
      "source": [
        "<a href=\"https://colab.research.google.com/github/reshmi916/Assignment/blob/main/260725ASSIGNMENT.ipynb\" target=\"_parent\"><img src=\"https://colab.research.google.com/assets/colab-badge.svg\" alt=\"Open In Colab\"/></a>"
      ]
    },
    {
      "cell_type": "code",
      "execution_count": 30,
      "metadata": {
        "colab": {
          "base_uri": "https://localhost:8080/"
        },
        "id": "xHrVZBP-5nQO",
        "outputId": "467dbe2c-24bd-43d3-8886-f1c9cd97cd33"
      },
      "outputs": [
        {
          "output_type": "stream",
          "name": "stdout",
          "text": [
            "Welcome to the machine\n",
            "Enter the amount to be deposited:2000\n",
            "Amount deposited: 2000.0\n",
            "Enter the amount to be withdrawn:150\n",
            "Withdrew Amount: 150.0\n",
            "Net Available Balance: 1850.0\n"
          ]
        }
      ],
      "source": [
        "class BankAccount:\n",
        "    def __init__(self):\n",
        "        self.balance=0\n",
        "        print('Welcome to the machine')\n",
        "    def deposit(self):\n",
        "        Amount=float(input('Enter the amount to be deposited:'))\n",
        "        self.balance=self.balance+Amount\n",
        "        print(\"Amount deposited:\",Amount)\n",
        "    def withdraw(self):\n",
        "        Amount=float(input('Enter the amount to be withdrawn:'))\n",
        "        if Amount<self.balance:\n",
        "            self.balance=self.balance-Amount\n",
        "            print('Withdrew Amount:',Amount)\n",
        "        else:\n",
        "            print('Insufficient balance')\n",
        "    def display(self):\n",
        "        print(\"Net Available Balance:\",self.balance)\n",
        "\n",
        "s=BankAccount()\n",
        "s.deposit()\n",
        "s.withdraw()\n",
        "s.display()"
      ]
    },
    {
      "cell_type": "code",
      "source": [
        "Date=[]\n",
        "Temperature=[]\n",
        "Humidity=[]\n",
        "s=[]\n",
        "n=int(input('Enter the range:'))\n",
        "for i in range(n):\n",
        "  x=input('Date:')\n",
        "  Date.append(x)\n",
        "  y=float(input(\"Temperature:\"))\n",
        "  Temperature.append(y)\n",
        "  z=float(input(\"Humidity:\"))\n",
        "  Humidity.append(z)\n",
        "  a=str(input(\"Sunny/Rainy:\"))\n",
        "  s.append(a)\n",
        "print('Date=',Date)\n",
        "print('Temperature=',Temperature)\n",
        "print('Humidity=',Humidity)\n",
        "t=(sum(Humidity)/n)\n",
        "print(\"Humidity=\",t,'%')\n",
        "print('Sunny/Rainy =',s)\n",
        "print('Average Temperature=',sum(Temperature)/n,'°C')\n",
        "print('Maximum Temperature=',max(Temperature),'°C')\n",
        "print('Minimum Temperature=',min(Temperature),'°C')\n",
        "dat=input('Enter the date:')\n",
        "tem=float(input('temp:'))\n",
        "Hum=float(input('Humid:'))\n",
        "v=str(input(\"Cloudy/Not:\"))\n",
        "if tem<(sum(Temperature)/n) and Hum>t and v=='Cloudy':\n",
        "  print(\"Rainy\")\n",
        "elif tem<min(Temperature) and Hum>t and v=='Cloudy':\n",
        "  print(\"Rainy\")\n",
        "else:\n",
        "  print(\"Sunny\")\n",
        "\n",
        "\n",
        "\n",
        "\n",
        "\n",
        "\n",
        "\n"
      ],
      "metadata": {
        "colab": {
          "base_uri": "https://localhost:8080/"
        },
        "id": "6qwPaMU860w_",
        "outputId": "3b410ed3-24fc-47e3-9ed1-b4dd41bae432"
      },
      "execution_count": 35,
      "outputs": [
        {
          "output_type": "stream",
          "name": "stdout",
          "text": [
            "Enter the range:2\n",
            "Date:02-02-25\n",
            "Temperature:39\n",
            "Humidity:90\n",
            "Sunny/Rainy:Sunny\n",
            "Date:03-02-25\n",
            "Temperature:36\n",
            "Humidity:96\n",
            "Sunny/Rainy:Rainy\n",
            "Date= ['02-02-25', '03-02-25']\n",
            "Temperature= [39.0, 36.0]\n",
            "Humidity= [90.0, 96.0]\n",
            "Humidity= 93.0 %\n",
            "Sunny/Rainy = ['Sunny', 'Rainy']\n",
            "Average Temperature= 37.5 °C\n",
            "Maximum Temperature= 39.0 °C\n",
            "Minimum Temperature= 36.0 °C\n",
            "Enter the date:25-02-25\n",
            "temp:35\n",
            "Humid:94\n",
            "Cloudy/Not:Cloudy\n",
            "Rainy\n"
          ]
        }
      ]
    },
    {
      "cell_type": "code",
      "source": [],
      "metadata": {
        "id": "7oDLXVBa69ns"
      },
      "execution_count": null,
      "outputs": []
    }
  ]
}