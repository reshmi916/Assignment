{
  "nbformat": 4,
  "nbformat_minor": 0,
  "metadata": {
    "colab": {
      "provenance": []
    },
    "kernelspec": {
      "name": "python3",
      "display_name": "Python 3"
    },
    "language_info": {
      "name": "python"
    }
  },
  "cells": [
    {
      "cell_type": "markdown",
      "source": [],
      "metadata": {
        "id": "LlcS6b2k_wWQ"
      }
    },
    {
      "cell_type": "markdown",
      "source": [
        "##Question 1\n"
      ],
      "metadata": {
        "id": "F9ot-5Cz_viR"
      }
    },
    {
      "cell_type": "code",
      "source": [
        "x=[2,4,6,8,10]\n",
        "def range(x):\n",
        "  return max(x),min(x)\n",
        "result=max(x),min(x)\n",
        "print(result)"
      ],
      "metadata": {
        "colab": {
          "base_uri": "https://localhost:8080/"
        },
        "id": "KxdLRUpp2GDJ",
        "outputId": "2bfadcde-e9b5-47fa-f20d-a4ba1edfbd61"
      },
      "execution_count": 209,
      "outputs": [
        {
          "output_type": "stream",
          "name": "stdout",
          "text": [
            "(10, 2)\n"
          ]
        }
      ]
    },
    {
      "cell_type": "markdown",
      "source": [
        "##Question 2"
      ],
      "metadata": {
        "id": "alPcfZjiAEeo"
      }
    },
    {
      "cell_type": "code",
      "source": [
        "x=[2,3,1,4,5,6]\n",
        "print(x)\n",
        "n=len(x)\n",
        "y=sum(x)/n\n",
        "print(\"mean=\",y)"
      ],
      "metadata": {
        "colab": {
          "base_uri": "https://localhost:8080/"
        },
        "id": "z_bxtr7I_-d4",
        "outputId": "fe2196fa-e543-4e61-91fe-af43a8f9adc2"
      },
      "execution_count": 210,
      "outputs": [
        {
          "output_type": "stream",
          "name": "stdout",
          "text": [
            "[2, 3, 1, 4, 5, 6]\n",
            "mean= 3.5\n"
          ]
        }
      ]
    },
    {
      "cell_type": "markdown",
      "source": [
        "##Question 3\n"
      ],
      "metadata": {
        "id": "dBRz-VNsAcXg"
      }
    },
    {
      "cell_type": "code",
      "source": [
        "x=[2,9,7,6,8,5,4,3]\n",
        "n=len(x)\n",
        "x.sort()\n",
        "print(x)\n",
        "if n%2==0:\n",
        "  print(((x[(n-1)//2])+(x[(n//2)]))/2)\n",
        "else:\n",
        "  print(x[(n)//2])"
      ],
      "metadata": {
        "colab": {
          "base_uri": "https://localhost:8080/"
        },
        "id": "D_PCHq2mAi1o",
        "outputId": "05557d40-738b-412d-9721-4aafb8417636"
      },
      "execution_count": 213,
      "outputs": [
        {
          "output_type": "stream",
          "name": "stdout",
          "text": [
            "[2, 3, 4, 5, 6, 7, 8, 9]\n",
            "5.5\n"
          ]
        }
      ]
    },
    {
      "cell_type": "markdown",
      "source": [
        "##Question 5\n",
        "\n"
      ],
      "metadata": {
        "id": "XntSCltWAu4o"
      }
    },
    {
      "cell_type": "code",
      "source": [
        "x=[9,3,6,7,2,1]\n",
        "y=sorted(x)\n",
        "print(y)\n",
        "n=len(y)\n",
        "p=90\n",
        "percentile=((p/100)*(n+1))\n",
        "print(percentile)\n",
        "z=(int(percentile))\n",
        "print(z)\n",
        "frac=percentile-z\n",
        "print(frac)\n",
        "position=y[z-1]+frac\n",
        "print(position)"
      ],
      "metadata": {
        "colab": {
          "base_uri": "https://localhost:8080/"
        },
        "id": "xqdhZ1N_AyDo",
        "outputId": "73373195-04a1-41d4-d729-d5e8a67738b7"
      },
      "execution_count": 214,
      "outputs": [
        {
          "output_type": "stream",
          "name": "stdout",
          "text": [
            "[1, 2, 3, 6, 7, 9]\n",
            "6.3\n",
            "6\n",
            "0.2999999999999998\n",
            "9.3\n"
          ]
        }
      ]
    },
    {
      "cell_type": "markdown",
      "source": [
        "## Question 6"
      ],
      "metadata": {
        "id": "7GPg3s0gA_8x"
      }
    },
    {
      "cell_type": "code",
      "source": [
        "x=[9,5,3,6,4,8,7]\n",
        "y=sorted(x)\n",
        "print(y)\n",
        "n=len(y)\n",
        "\n",
        "a=25\n",
        "a1=((a/100)*(n-1))\n",
        "print(a1)\n",
        "a2=int(a1)\n",
        "frac1=a1-a2\n",
        "g=y[a2]\n",
        "Q1=(g)+frac1\n",
        "print(\"Q1=\",Q1)\n",
        "\n",
        "b=75\n",
        "b1=((b/100)*(n-1))\n",
        "print(b1)\n",
        "b2=int(b1)\n",
        "frac2=b1-b2\n",
        "Q3=y[b2]+frac2\n",
        "print(\"Q3=\",Q3)\n",
        "\n",
        "IQR=(Q3-Q1)\n",
        "print(IQR)\n",
        "L=((Q1)-(1.5*IQR))\n",
        "print(L)\n"
      ],
      "metadata": {
        "colab": {
          "base_uri": "https://localhost:8080/"
        },
        "id": "ixrM_iXyA-_g",
        "outputId": "c8a8750b-00d7-4c3f-9084-a2bf15c676bb"
      },
      "execution_count": 215,
      "outputs": [
        {
          "output_type": "stream",
          "name": "stdout",
          "text": [
            "[3, 4, 5, 6, 7, 8, 9]\n",
            "1.5\n",
            "Q1= 4.5\n",
            "4.5\n",
            "Q3= 7.5\n",
            "3.0\n",
            "0.0\n"
          ]
        }
      ]
    },
    {
      "cell_type": "markdown",
      "source": [
        "##Question 7"
      ],
      "metadata": {
        "id": "FCRw8pOnBLZZ"
      }
    },
    {
      "cell_type": "code",
      "source": [
        "x=[9,5,3,6,4,8,7]\n",
        "y=sorted(x)\n",
        "print(\"y=\",y)\n",
        "n=len(y)\n",
        "\n",
        "a=25\n",
        "a1=((a/100)*(n-1))\n",
        "print(a1)\n",
        "a2=int(a1)\n",
        "frac1=a1-a2\n",
        "g=y[a2]\n",
        "Q1=(g)+frac1\n",
        "print(\"Q1=\",Q1)\n",
        "\n",
        "b=75\n",
        "b1=((b/100)*(n-1))\n",
        "print(b1)\n",
        "b2=int(b1)\n",
        "frac2=b1-b2\n",
        "Q3=y[b2]+frac2\n",
        "print(\"Q3=\",Q3)\n",
        "\n",
        "IQR=(Q3-Q1)\n",
        "print(IQR)\n",
        "L=((Q1)-(1.5*IQR))\n",
        "print(\"Lower bound=\",L)\n",
        "\n",
        "U=((Q3)+(1.5*IQR))\n",
        "print(\"Upper bound=\",U)\n",
        "\n",
        "\n",
        "i=0\n",
        "while i<=n-1:\n",
        "  if y[i]>L and y[i]<U:\n",
        "   print(\"None\")\n",
        "   i=i+1\n",
        "  else:\n",
        "    print(\"there is outliers\")"
      ],
      "metadata": {
        "colab": {
          "base_uri": "https://localhost:8080/"
        },
        "id": "vQgZxEXeBTlR",
        "outputId": "a57894ec-5aac-47f9-9e8e-14acdfd9dbed"
      },
      "execution_count": 216,
      "outputs": [
        {
          "output_type": "stream",
          "name": "stdout",
          "text": [
            "y= [3, 4, 5, 6, 7, 8, 9]\n",
            "1.5\n",
            "Q1= 4.5\n",
            "4.5\n",
            "Q3= 7.5\n",
            "3.0\n",
            "Lower bound= 0.0\n",
            "Upper bound= 12.0\n",
            "None\n",
            "None\n",
            "None\n",
            "None\n",
            "None\n",
            "None\n",
            "None\n"
          ]
        }
      ]
    }
  ]
}